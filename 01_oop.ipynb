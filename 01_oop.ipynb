{
 "cells": [
  {
   "cell_type": "markdown",
   "id": "17e32c33-d3bc-474d-adcd-42aa4c1785b8",
   "metadata": {},
   "source": [
    "# 객체지향프로그래밍(Object-Oriented Programming, OOP)\n",
    "객체(Object)를 중심으로 프로그램을 설계하고 구현하는 프로그래밍 방법론입니다.  \n",
    "객체는 데이터(속성, 변수)와 해당 데이터를 조작하는 메서드(함수)를 함께 포함하는 단위로서 함수, 클래스로 명명합니다.  \n",
    "\n",
    "객체지향 프로그래밍은 코드의 재사용, 유지보수, 팀 단위 작업을 위한 협업 효율, 확장성을 높이는 목적으로 사용합니다."
   ]
  },
  {
   "cell_type": "markdown",
   "id": "66b97faf-1149-4a4f-8b6e-16e8e5b8e158",
   "metadata": {},
   "source": [
    "## 함수\n",
    "> 수학적 정의의 **함수**란?  \n",
    "$y$ = $f(x)$\n",
    "\n",
    "> 프로그래밍에서의 함수란?  \n",
    "자주 사용해야 하는 코드를 **재사용하기 위한 코드의 묶음**\n",
    "\n",
    "> 데이터과학에서의 함수란?  \n",
    "입력값을 받아 사용자가 원하는 처리를 한 후 결과값을 되돌려 받는 코드의 묶음"
   ]
  },
  {
   "cell_type": "markdown",
   "id": "4f0f0002-5fa3-4a8c-8649-8b14d0aca547",
   "metadata": {},
   "source": [
    "### 함수의 구조\n",
    "```python\n",
    "def 함수이름(파라메터 혹은 매개변수): # 함수이름을 메모리에 저장, 파라메터는 없어도 가능\n",
    "    \n",
    "    실행코드 # 함수이름을 호출하면 실행코드가 위에서 아래로 실행\n",
    "    실행코드 # 보통 기능단위로 코드로 묶어 함수화 한다.\n",
    "    실행코드 # 실제로는 코드가 메모리에 저장되는 구조를 갖는다.\n",
    "    \n",
    "    return 반환값 # 함수에서 실행코드를 거친 결과값을 다시 사용해야 할 경우 값을 반환시킨다.\n",
    "```"
   ]
  },
  {
   "cell_type": "code",
   "execution_count": 2,
   "id": "d71e7fa0-67c1-4394-b96d-a553fc3582f7",
   "metadata": {},
   "outputs": [
    {
     "data": {
      "text/plain": [
       "15"
      ]
     },
     "execution_count": 2,
     "metadata": {},
     "output_type": "execute_result"
    }
   ],
   "source": [
    "# 파이썬 기본함수 sum의 형태\n"
   ]
  },
  {
   "cell_type": "markdown",
   "id": "0bcc0077-acc3-4f65-841d-a3ae6d3b5f53",
   "metadata": {},
   "source": [
    "### python 예약어로 지정 된 함수를 쪼개봅시다\n",
    ">`sum()` 함수는 python 언어에 내장되어 있는 함수입니다.  \n",
    "파라메터로 iterable 변수 즉, 반복문으로 내부 인자의 루프를 돌 수 있는 변수를 받습니다.  \n",
    "그리고 그 인자의 합을 출력하는 함수입니다.  "
   ]
  },
  {
   "cell_type": "code",
   "execution_count": 4,
   "id": "aafafa21-e6ed-41f3-a20f-ff9edf8ebbf7",
   "metadata": {},
   "outputs": [],
   "source": [
    "# 파이썬 sum함수를 쪼개서 sum_sum 함수로 제작\n"
   ]
  },
  {
   "cell_type": "code",
   "execution_count": 5,
   "id": "f0d2aee3-af37-464c-b55b-337854118fb3",
   "metadata": {},
   "outputs": [
    {
     "data": {
      "text/plain": [
       "6"
      ]
     },
     "execution_count": 5,
     "metadata": {},
     "output_type": "execute_result"
    }
   ],
   "source": [
    "# sum_sum 호출\n",
    "sum_sum([1, 2, 3])"
   ]
  },
  {
   "cell_type": "markdown",
   "id": "356185d9-8c27-4475-8168-47efd5bcc62c",
   "metadata": {},
   "source": [
    "`max()` 함수도 python 내장 함수로서 `sum()`과 같은 형식의 입력값을 받아 최대값을 반환하는 함수입니다. 함수를 쪼개봅시다  "
   ]
  },
  {
   "cell_type": "code",
   "execution_count": 6,
   "id": "79fb8698-233f-41ea-afad-6e16b593f048",
   "metadata": {},
   "outputs": [],
   "source": [
    "# max_max 함수 기본문법으로 제작 (max함수 사용하지 않고)\n"
   ]
  },
  {
   "cell_type": "code",
   "execution_count": 7,
   "id": "098701d8-5336-4916-a7ad-1de0e7b5fd59",
   "metadata": {},
   "outputs": [
    {
     "data": {
      "text/plain": [
       "6"
      ]
     },
     "execution_count": 7,
     "metadata": {},
     "output_type": "execute_result"
    }
   ],
   "source": [
    "# max_max 함수 호출\n",
    "max_max([-1, 2, 3, 5, 6])"
   ]
  },
  {
   "cell_type": "markdown",
   "id": "bd497701-431b-42b9-b6c4-2115f4dc52a2",
   "metadata": {},
   "source": [
    "## 클래스\n",
    "> 프로젝트가 커지고 소스코드가 길어진다면 코드의 유지관리가 어려워집니다.  \n",
    "> 구조 혹은 목적이 비슷한 함수가 여러개가 있다면 네이밍, 참조구조가 중복되는 문제로 인하여 코드 재사용 및 유지보수에 어려움이 있습니다.  \n",
    "> 이를 해결하기 위한 방법으로 같은 목적을 갖는 함수들을 클래스 형태로 구성하는 구조를 사용합니다.  \n",
    "> 클래스는 목적이 같은 함수의 묶음으로 생각할 수 있습니다.  \n",
    "> 작업내용을 실행파일 형태로 제작하려면 클래스 형태의 파일로 구성하는 것이 일반적인 방법입니다."
   ]
  },
  {
   "cell_type": "markdown",
   "id": "36947079-a8a3-4cc5-a507-a785be2672d9",
   "metadata": {},
   "source": [
    "### 클래스의 구조\n",
    "```python\n",
    "class 클래스명: # 클래스 이름을 선언(저장), 앞으로 해당 이름은 클래스로 지정함\n",
    "    \n",
    "    def __init__(self, x): # 생성자 함수 - 클래스를 만들면서 입력받는 파라메터를 클래스 내에서 사용가능 하도록 초기화\n",
    "        # 클래스 내부에 속한 함수임을 표현하기 위해 관례적으로 self 키워드를 파라메터에 추가\n",
    "        # 변수 x는 클래스가 만들어지며 전달받는 파라메터\n",
    "        self.x = x \n",
    "        # self.x는 파라메터를 전달받아 클래스 내부에서 사용가능한 형태로 초기화한 변수 (속성)\n",
    "        \n",
    "    def 함수명(self, 파라메터): # 클래스 내부에 속한 함수임을 표현하기 위해 self 키워드를 파라메터에 추가\n",
    "        실행코드\n",
    "        실행코드\n",
    "        실행코드\n",
    "        return 반환값\n",
    "```\n",
    "- 클래스의 선언은 함수와 달리 소괄호없이 선언한다.\n",
    "- 클래스명은 특수문자를 포함하지 않는 단어의 첫 알파벳을 대문자로 ex) MyClass, SumTotal (파스칼표기)  \n",
    "- 클래스 선언이후 처음 작성하는 **`__init__`** 함수는 클래스가 정의되면서 입력되는 파라메터를 저장하고 재사용하기 위한 초기화함수  \n",
    "- 클래스 내 함수의 파라메터 맨 앞은 항상 **`self`** 를 추가해주어야 하며,  \n",
    "- **`__init__`** 함수에서 설정한 변수 할당시에도 **`self`** 를 추가해준다.  \n",
    "- **`self.`** 변수는 클래스 내부에서 사용되며 클래스 내부에 있는 모든 함수에 사용이 가능하다.\n",
    "- **`if` `__name__` == `__main__`:** 구문은 모듈화한 파이썬 파일을 실행파일로 생성한다."
   ]
  },
  {
   "cell_type": "markdown",
   "id": "17388098-e789-4db6-8e12-c991c49e54f6",
   "metadata": {},
   "source": [
    "### 클래스의 구조를 예제 코드를 보며 눈으로 익혀봅니다."
   ]
  },
  {
   "cell_type": "code",
   "execution_count": null,
   "id": "9502e34f-7f6f-4ad4-95d6-97b249361fa7",
   "metadata": {},
   "outputs": [],
   "source": [
    "# 전사와 마법사 생성후 모의전투\n",
    "import numpy as np\n",
    "import random\n",
    "import time\n",
    "\n",
    "class Character:\n",
    "\n",
    "    def __init__(self, job):\n",
    "        self.job = job\n",
    "        self.__defaultvital = 100\n",
    "        self.__defaultdefence = 10\n",
    "        self.__defaultattack = 15\n",
    "        if self.job == '전사':\n",
    "            self.vital = self.__defaultvital + random.randint(5, 10)\n",
    "            self.defence = self.__defaultdefence + random.randint(5, 10)\n",
    "            self.attack = self.__defaultattack\n",
    "        elif self.job == '마법사':\n",
    "            self.attack = self.__defaultattack + random.randint(7, 15)\n",
    "            self.defence = self.__defaultdefence - random.randint(1, 5)\n",
    "            self.vital = self.__defaultvital\n",
    "\n",
    "class Battle:\n",
    "    \n",
    "    def __init__(self, p1, p2):\n",
    "        self.p1 = p1\n",
    "        self.p2 = p2\n",
    "    \n",
    "    def fight(self):\n",
    "\n",
    "        for i in range(30):\n",
    "            time.sleep(1)\n",
    "            print(str(i+1) + '텀 전투결과')\n",
    "            self.p1.vital = self.p1.vital - ((self.p2.attack + random.randint(-2, 2)) - self.p1.defence)\n",
    "            print(self.p1.job + '가 ' + self.p2.job + '의 ' + str(self.p2.attack + random.randint(-1, 1)) + ' 의 공격을 받아 체력이 ' + str(self.p1.vital) + '이 되었습니다.')\n",
    "            self.p2.vital = self.p2.vital - ((self.p1.attack + random.randint(-1, 1)) - self.p2.defence)\n",
    "            print(self.p2.job + '가 ' + self.p1.job + '의 ' + str(self.p1.attack + random.randint(-2, 2)) + ' 의 공격을 받아 체력이 ' + str(self.p2.vital) + '이 되었습니다.')\n",
    "            if (self.p1.vital <= 0) | (self.p2.vital <= 0):\n",
    "                print('전투종료')\n",
    "                break\n",
    "\n",
    "# 클래스의 실행은 각 클래스를 인스턴스(변수) 형태로 할당하고 사용합니다.\n",
    "warrior = Caractor('전사')\n",
    "magician = Caractor('마법사')\n",
    "battle1 = Battle(warrior, magician)\n",
    "battle1.fight()"
   ]
  },
  {
   "cell_type": "markdown",
   "id": "05b4f2df-d255-4886-9c4e-6886f4aa72fe",
   "metadata": {},
   "source": [
    "클래스가 붕어빵 틀이라면 클래스로 만들어진 객체는 붕어빵이라 할 수 있습니다. 모양이 같은 붕어빵이 제작되겠지만 재료에 따라서 각기 다른 붕어빵을 만들 수 있습니다.  \n",
    "잘 정의된 구조에서 여러개의 객체를 만들 수 있는 클래스의 구성은 객체지향프로그래밍의 목적에 맞는 프로그래밍 구조라 할 수 있습니다."
   ]
  },
  {
   "cell_type": "markdown",
   "id": "b47e5856-cf1f-41b6-bc68-47067678e9a9",
   "metadata": {},
   "source": [
    "### 모듈화(파일화)된 클래스 파일을 사용하기"
   ]
  },
  {
   "cell_type": "code",
   "execution_count": 8,
   "id": "f87c6355-557f-476a-b5d9-a4b2b22f6bdf",
   "metadata": {},
   "outputs": [],
   "source": [
    "# 모듈화 된 클래스 파일 import\n"
   ]
  },
  {
   "cell_type": "code",
   "execution_count": null,
   "id": "9e6ea970-4f71-41a6-bee9-dd15dcc8b6b1",
   "metadata": {},
   "outputs": [],
   "source": [
    "# 모듈화 된 클래스 파일 실행 in Jupyter and Terminal \n"
   ]
  },
  {
   "cell_type": "markdown",
   "id": "6a2430c9-837c-4f24-aa58-31d028df8d4a",
   "metadata": {},
   "source": [
    "## 데이터분석을 위한 csv파일 로딩 작업 클래스로 제작 실습"
   ]
  },
  {
   "cell_type": "code",
   "execution_count": 33,
   "id": "1f1c2c4e-28ff-4a99-9947-a1ea3aac9780",
   "metadata": {},
   "outputs": [],
   "source": [
    "# 데이터 로딩 클래스 생성\n",
    "# 파일형식에 따라 자동화 된 방법으로 read 메소드를 선택하여 데이터프레임으로 리턴\n",
    "# CODE HERE\n",
    "\n",
    "\n",
    "\n"
   ]
  },
  {
   "cell_type": "code",
   "execution_count": null,
   "id": "22d9adbc-5313-4074-9acd-12be5c804758",
   "metadata": {},
   "outputs": [],
   "source": [
    "# 클래스 객체로 데이터프레임 제작\n"
   ]
  }
 ],
 "metadata": {
  "kernelspec": {
   "display_name": "Python 3 (ipykernel)",
   "language": "python",
   "name": "python3"
  },
  "language_info": {
   "codemirror_mode": {
    "name": "ipython",
    "version": 3
   },
   "file_extension": ".py",
   "mimetype": "text/x-python",
   "name": "python",
   "nbconvert_exporter": "python",
   "pygments_lexer": "ipython3",
   "version": "3.12.3"
  }
 },
 "nbformat": 4,
 "nbformat_minor": 5
}
