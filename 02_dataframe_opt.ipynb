{
 "cells": [
  {
   "cell_type": "markdown",
   "id": "49e670f3-a133-456a-b0ac-583a903ae6f2",
   "metadata": {},
   "source": [
    "# 데이터프레임에서 활용가능한 최적화 방법\n",
    "## 파일형식에 따른 데이터프레임 로딩 및 저장 테스트\n",
    "큰 사이즈의 데이터를 다루면 파일 형식에 따른 데이터프레임 로딩 속도 및 원본데이터의 용량 차이가 존재 하게 됩니다.  \n",
    "실무에서 많이 사용하는 xlsx, csv 형식과 함께 parquet 형태의 데이터를 알아봅니다.\n",
    "\n",
    "parquet 데이터 파일은 행단위 데이터 누적이 아닌 열(컬럼)단위 데이터 압축을 하는 특징으로 빅데이터 로딩 및 관리에 효율적인 방법입니다. \n",
    "<img src=\"./image/parquet.png\">  \n",
    "출처 : https://www.dremio.com/resources/guides/intro-apache-parquet/"
   ]
  },
  {
   "cell_type": "code",
   "execution_count": 1,
   "id": "efd76901-f4f5-4d35-b1fc-e77ff3b61b38",
   "metadata": {},
   "outputs": [],
   "source": [
    "# 필요모듈 import\n",
    "import numpy as np\n",
    "from numpy import uint8\n",
    "import pandas as pd\n",
    "pd.options.display.max_columns = 100"
   ]
  },
  {
   "cell_type": "code",
   "execution_count": 34,
   "id": "0eb6434f-7869-4839-bee2-d4d05f547952",
   "metadata": {},
   "outputs": [
    {
     "name": "stdout",
     "output_type": "stream",
     "text": [
      "<class 'pandas.core.frame.DataFrame'>\n",
      "RangeIndex: 99548 entries, 0 to 99547\n",
      "Data columns (total 23 columns):\n",
      " #   Column           Non-Null Count  Dtype \n",
      "---  ------           --------------  ----- \n",
      " 0   eqp_model_rev    99548 non-null  object\n",
      " 1   eqp_id_rev       99548 non-null  object\n",
      " 2   area             99548 non-null  object\n",
      " 3   eqp_type         99548 non-null  object\n",
      " 4   ees_type         274 non-null    object\n",
      " 5   unit_name_rev    99548 non-null  object\n",
      " 6   disp_name        99548 non-null  object\n",
      " 7   lottype          99548 non-null  object\n",
      " 8   wafer_id         99548 non-null  int64 \n",
      " 9   param_name_rev   99548 non-null  object\n",
      " 10  act_time         99548 non-null  object\n",
      " 11  lower_spec_rev   99548 non-null  object\n",
      " 12  param_value_rev  99548 non-null  object\n",
      " 13  upper_spec_rev   99548 non-null  object\n",
      " 14  step_seq_rev     99548 non-null  object\n",
      " 15  processid_rev    99548 non-null  object\n",
      " 16  partid_rev       99548 non-null  object\n",
      " 17  ppid_rev         99548 non-null  object\n",
      " 18  recipeid_rev     99548 non-null  object\n",
      " 19  root_lot_id_rev  99548 non-null  object\n",
      " 20  lotid_rev        99548 non-null  object\n",
      " 21  fdc_bin_rev      99548 non-null  object\n",
      " 22  fdc_model_rev    99548 non-null  object\n",
      "dtypes: int64(1), object(22)\n",
      "memory usage: 1.2 GB\n",
      "CPU times: user 12.8 s, sys: 259 ms, total: 13 s\n",
      "Wall time: 13 s\n"
     ]
    }
   ],
   "source": [
    "%%time\n",
    "# 엑셀파일 로딩 테스트 'ERDTSUM_DATA_AGG.xlsx'\n"
   ]
  },
  {
   "cell_type": "code",
   "execution_count": 39,
   "id": "fd326632-075b-494d-91d3-77d07a60ee74",
   "metadata": {},
   "outputs": [
    {
     "name": "stdout",
     "output_type": "stream",
     "text": [
      "CPU times: user 38.7 s, sys: 1.02 s, total: 39.7 s\n",
      "Wall time: 40.1 s\n"
     ]
    }
   ],
   "source": [
    "%%time\n",
    "# xlsx\n"
   ]
  },
  {
   "cell_type": "code",
   "execution_count": 40,
   "id": "b0bfad7a-7148-478b-adf8-bd25a083684e",
   "metadata": {},
   "outputs": [
    {
     "name": "stdout",
     "output_type": "stream",
     "text": [
      "CPU times: user 10.4 s, sys: 452 ms, total: 10.8 s\n",
      "Wall time: 11 s\n"
     ]
    }
   ],
   "source": [
    "%%time\n",
    "# csv 테스트용 csv파일 생성\n"
   ]
  },
  {
   "cell_type": "code",
   "execution_count": 41,
   "id": "c6ea6477-71d3-4029-9c00-2ffdaf579b69",
   "metadata": {},
   "outputs": [
    {
     "name": "stdout",
     "output_type": "stream",
     "text": [
      "CPU times: user 1.07 s, sys: 247 ms, total: 1.31 s\n",
      "Wall time: 1.34 s\n"
     ]
    }
   ],
   "source": [
    "%%time\n",
    "# parquet\n"
   ]
  },
  {
   "cell_type": "code",
   "execution_count": 35,
   "id": "30c4e924-8b57-4bc9-890d-2dc2d0ff19ea",
   "metadata": {},
   "outputs": [
    {
     "name": "stdout",
     "output_type": "stream",
     "text": [
      "<class 'pandas.core.frame.DataFrame'>\n",
      "RangeIndex: 99548 entries, 0 to 99547\n",
      "Data columns (total 23 columns):\n",
      " #   Column           Non-Null Count  Dtype \n",
      "---  ------           --------------  ----- \n",
      " 0   eqp_model_rev    99548 non-null  object\n",
      " 1   eqp_id_rev       99548 non-null  object\n",
      " 2   area             99548 non-null  object\n",
      " 3   eqp_type         99548 non-null  object\n",
      " 4   ees_type         99548 non-null  object\n",
      " 5   unit_name_rev    99548 non-null  object\n",
      " 6   disp_name        99548 non-null  object\n",
      " 7   lottype          99548 non-null  object\n",
      " 8   wafer_id         99548 non-null  int64 \n",
      " 9   param_name_rev   99548 non-null  object\n",
      " 10  act_time         99548 non-null  object\n",
      " 11  lower_spec_rev   99548 non-null  object\n",
      " 12  param_value_rev  99548 non-null  object\n",
      " 13  upper_spec_rev   99548 non-null  object\n",
      " 14  step_seq_rev     99548 non-null  object\n",
      " 15  processid_rev    99548 non-null  object\n",
      " 16  partid_rev       99548 non-null  object\n",
      " 17  ppid_rev         99548 non-null  object\n",
      " 18  recipeid_rev     99548 non-null  object\n",
      " 19  root_lot_id_rev  99548 non-null  object\n",
      " 20  lotid_rev        99548 non-null  object\n",
      " 21  fdc_bin_rev      99548 non-null  object\n",
      " 22  fdc_model_rev    99548 non-null  object\n",
      "dtypes: int64(1), object(22)\n",
      "memory usage: 1.2 GB\n",
      "CPU times: user 6.98 s, sys: 283 ms, total: 7.26 s\n",
      "Wall time: 7.27 s\n"
     ]
    }
   ],
   "source": [
    "%%time\n",
    "# csv 파일 로딩 테스트\n"
   ]
  },
  {
   "cell_type": "code",
   "execution_count": 89,
   "id": "075d7218-3111-48ae-9a62-2a480bf6ec27",
   "metadata": {},
   "outputs": [
    {
     "name": "stdout",
     "output_type": "stream",
     "text": [
      "<class 'pandas.core.frame.DataFrame'>\n",
      "RangeIndex: 99548 entries, 0 to 99547\n",
      "Data columns (total 23 columns):\n",
      " #   Column           Non-Null Count  Dtype \n",
      "---  ------           --------------  ----- \n",
      " 0   eqp_model_rev    99548 non-null  object\n",
      " 1   eqp_id_rev       99548 non-null  object\n",
      " 2   area             99548 non-null  object\n",
      " 3   eqp_type         99548 non-null  object\n",
      " 4   ees_type         99548 non-null  object\n",
      " 5   unit_name_rev    99548 non-null  object\n",
      " 6   disp_name        99548 non-null  object\n",
      " 7   lottype          99548 non-null  object\n",
      " 8   wafer_id         99548 non-null  int64 \n",
      " 9   param_name_rev   99548 non-null  object\n",
      " 10  act_time         99548 non-null  object\n",
      " 11  lower_spec_rev   99548 non-null  object\n",
      " 12  param_value_rev  99548 non-null  object\n",
      " 13  upper_spec_rev   99548 non-null  object\n",
      " 14  step_seq_rev     99548 non-null  object\n",
      " 15  processid_rev    99548 non-null  object\n",
      " 16  partid_rev       99548 non-null  object\n",
      " 17  ppid_rev         99548 non-null  object\n",
      " 18  recipeid_rev     99548 non-null  object\n",
      " 19  root_lot_id_rev  99548 non-null  object\n",
      " 20  lotid_rev        99548 non-null  object\n",
      " 21  fdc_bin_rev      99548 non-null  object\n",
      " 22  fdc_model_rev    99548 non-null  object\n",
      "dtypes: int64(1), object(22)\n",
      "memory usage: 1.2 GB\n",
      "CPU times: user 983 ms, sys: 508 ms, total: 1.49 s\n",
      "Wall time: 1.05 s\n"
     ]
    }
   ],
   "source": [
    "%%time\n",
    "# parquet 파일 로딩 테스트\n"
   ]
  },
  {
   "cell_type": "markdown",
   "id": "462ef74d-0a0f-458e-9778-15b78ef84115",
   "metadata": {},
   "source": [
    "동일한 데이터프레임으로 로딩하지만 작업시간, 데이터의 크기가 파일형식마다 특징이 있습니다.  \n",
    "parquet데이터의 경우 속도 및 파일용량 면에서 타 파일형식보다 월등한 효율을 갖습니다.  "
   ]
  },
  {
   "cell_type": "markdown",
   "id": "fa3d9f09-655e-4f3f-8601-c99a3d6cff6f",
   "metadata": {},
   "source": [
    "# 데이터타입 최적화\n",
    "판다스의 데이터타입은 기본적으로 numpy array데이터 타입을 따르며 array에 담겨있는 데이터 중 가장 큰 범주의 데이터를 기준으로 데이터타입을 사용합니다.  \n",
    "eg.) str > float < int  \n",
    "데이터타입은 컴퓨터 운영체제의  비트수를 따르며(일반적으로 64bit) 일부 윈도우 컴퓨터는 메모리 최적화를 위해 데이터의 범위에 따라 데이터타입을 정의하기도 합니다.  \n",
    "다만 데이터의 사이즈가 클 경우 전체 데이터를 로컬 컴퓨터의 메모리상에 다 담을 수 없어 작업을 위해 추가적인 조치가 필요합니다.  \n",
    "각 데이터의 고윳값 특징에 따라 데이터타입을 정의한다면 컬럼별 약 2~8배의 메모리 절약이 가능합니다.  \n",
    "큰 정밀도가 필요하지 않은 경우 int64, float64 --> 작은 메모리 int32, float16, uint8 등등  \n",
    "object --> category"
   ]
  },
  {
   "cell_type": "markdown",
   "id": "3927ccc2-2da9-4098-b8c7-fc3fef996a7e",
   "metadata": {},
   "source": [
    "## 데이터 타입별 비트수, 표현 가능한 숫자범위\n",
    "|데이터타입|비트수|숫자범위|\n",
    "|---|---|---|\n",
    "|int16|16비트|-32767~32768|\n",
    "|int32|32비트|-2147483648 ~ 2147483647|\n",
    "|int64|64비트|-9223372036854775808 ~ 9223372036854775807|\n",
    "|unint8|8비트|0~255|\n",
    "|uint16|16비트|0~65535|\n",
    "|uint32|32비트|0 ~ 4294967295|\n",
    "|uint64|64비트|0 ~ 18446744073709551615|\n",
    "\n",
    "|데이터타입|비트수|숫자범위|소수점 이하 정밀도|\n",
    "|---|---|---|---|\n",
    "|float16(반정밀도)|16비트|$-6.55\\times10^4$ ~ $6.55\\times10^4$|약 3~4자리|\n",
    "|float32(단정밀도)|32비트|$-3.4\\times10^38$ ~ $3.4\\times10^38$|약 6~7자리|\n",
    "|float64(배정밀도)|64비트|$-1.8\\times10^308$ ~ $1.8x10\\times308$|약 15~16자리|"
   ]
  },
  {
   "cell_type": "code",
   "execution_count": 43,
   "id": "34c26236-4658-4dfa-979e-c69f3c57f675",
   "metadata": {},
   "outputs": [
    {
     "data": {
      "text/html": [
       "<div>\n",
       "<style scoped>\n",
       "    .dataframe tbody tr th:only-of-type {\n",
       "        vertical-align: middle;\n",
       "    }\n",
       "\n",
       "    .dataframe tbody tr th {\n",
       "        vertical-align: top;\n",
       "    }\n",
       "\n",
       "    .dataframe thead th {\n",
       "        text-align: right;\n",
       "    }\n",
       "</style>\n",
       "<table border=\"1\" class=\"dataframe\">\n",
       "  <thead>\n",
       "    <tr style=\"text-align: right;\">\n",
       "      <th></th>\n",
       "      <th>eqp_model_rev</th>\n",
       "      <th>eqp_id_rev</th>\n",
       "      <th>area</th>\n",
       "      <th>eqp_type</th>\n",
       "      <th>ees_type</th>\n",
       "      <th>unit_name_rev</th>\n",
       "      <th>disp_name</th>\n",
       "      <th>lottype</th>\n",
       "      <th>wafer_id</th>\n",
       "      <th>param_name_rev</th>\n",
       "      <th>act_time</th>\n",
       "      <th>lower_spec_rev</th>\n",
       "      <th>param_value_rev</th>\n",
       "      <th>upper_spec_rev</th>\n",
       "      <th>step_seq_rev</th>\n",
       "      <th>processid_rev</th>\n",
       "      <th>partid_rev</th>\n",
       "      <th>ppid_rev</th>\n",
       "      <th>recipeid_rev</th>\n",
       "      <th>root_lot_id_rev</th>\n",
       "      <th>lotid_rev</th>\n",
       "      <th>fdc_bin_rev</th>\n",
       "      <th>fdc_model_rev</th>\n",
       "    </tr>\n",
       "  </thead>\n",
       "  <tbody>\n",
       "    <tr>\n",
       "      <th>0</th>\n",
       "      <td>HCD9300</td>\n",
       "      <td>A79C01</td>\n",
       "      <td>METRO</td>\n",
       "      <td>METRMS</td>\n",
       "      <td>METRMS</td>\n",
       "      <td>A79C01</td>\n",
       "      <td>0</td>\n",
       "      <td>-</td>\n",
       "      <td>0</td>\n",
       "      <td>[\"d_awrpcelloutvoltage_e\",\"d_bandwidth_e\",\"d_c...</td>\n",
       "      <td>[\"2024-01-30 00:03:59\",\"2024-01-30 00:03:59\",\"...</td>\n",
       "      <td>[11.57002159338028,,,,0,13.20025437969012,,,,0...</td>\n",
       "      <td>[0,0,0,0,0,0]</td>\n",
       "      <td>[24.40612206853535,,,,8.71363057312702,24.7986...</td>\n",
       "      <td>SVMMYSQEP</td>\n",
       "      <td>-</td>\n",
       "      <td>SAMPLE</td>\n",
       "      <td>PBP_12BLO_PPE</td>\n",
       "      <td>-</td>\n",
       "      <td>131915</td>\n",
       "      <td>131915PP</td>\n",
       "      <td>0</td>\n",
       "      <td>OV_YBPM300_MP_PPOXLE</td>\n",
       "    </tr>\n",
       "    <tr>\n",
       "      <th>1</th>\n",
       "      <td>HCD9300</td>\n",
       "      <td>A79C01</td>\n",
       "      <td>METRO</td>\n",
       "      <td>METRMS</td>\n",
       "      <td>METRMS</td>\n",
       "      <td>A79C01</td>\n",
       "      <td>0</td>\n",
       "      <td>-</td>\n",
       "      <td>0</td>\n",
       "      <td>[\"v_rrc_rinse_flow_e\"]</td>\n",
       "      <td>[\"2024-01-30 00:07:45\",\"2024-01-30 00:07:45\"]</td>\n",
       "      <td>[]</td>\n",
       "      <td>[-2.282096333333333,-3.279004,-1.2817383,0.673...</td>\n",
       "      <td>[]</td>\n",
       "      <td>SVMMYSQEP</td>\n",
       "      <td>-</td>\n",
       "      <td>SAMPLE</td>\n",
       "      <td>PBP_12BLO_PPE</td>\n",
       "      <td>-</td>\n",
       "      <td>119670</td>\n",
       "      <td>119670P</td>\n",
       "      <td>0</td>\n",
       "      <td>OV_YBPM300_MP_PPOXLE</td>\n",
       "    </tr>\n",
       "    <tr>\n",
       "      <th>2</th>\n",
       "      <td>HCD9300</td>\n",
       "      <td>A79C01</td>\n",
       "      <td>METRO</td>\n",
       "      <td>METRMS</td>\n",
       "      <td>METRMS</td>\n",
       "      <td>A79C01</td>\n",
       "      <td>0</td>\n",
       "      <td>-</td>\n",
       "      <td>0</td>\n",
       "      <td>[\"v_smas_si2h7_mfc_si2h7_avg_avg_t\",\"v_smas_97...</td>\n",
       "      <td>[\"2024-01-30 00:17:59\",\"2024-01-30 00:17:59\",\"...</td>\n",
       "      <td>[182.0792824601367,,,]</td>\n",
       "      <td>[1.27,0.2899999999999977,0.2899999999999977,0,...</td>\n",
       "      <td>[184.0792824601367,,,]</td>\n",
       "      <td>SVMMYSQEP</td>\n",
       "      <td>-</td>\n",
       "      <td>SAMPLE</td>\n",
       "      <td>PBP_12BLO_PPE</td>\n",
       "      <td>-</td>\n",
       "      <td>131915</td>\n",
       "      <td>131915PP</td>\n",
       "      <td>0</td>\n",
       "      <td>OV_YBPM300_MP_PPOXLE</td>\n",
       "    </tr>\n",
       "    <tr>\n",
       "      <th>3</th>\n",
       "      <td>HCD9300</td>\n",
       "      <td>A79C01</td>\n",
       "      <td>METRO</td>\n",
       "      <td>METRMS</td>\n",
       "      <td>METRMS</td>\n",
       "      <td>A79C01</td>\n",
       "      <td>0</td>\n",
       "      <td>-</td>\n",
       "      <td>0</td>\n",
       "      <td>[\"plate_temp_max_min_t\",\"v_process_time_avg_t\"...</td>\n",
       "      <td>[\"2024-01-30 00:26:31\",\"2024-01-30 00:26:31\",\"...</td>\n",
       "      <td>[,,0,,,0]</td>\n",
       "      <td>[15.244,15.244,15.244,0,16.222,16.222,16.222,0...</td>\n",
       "      <td>[,,100,,,100]</td>\n",
       "      <td>SVMMYSQEP</td>\n",
       "      <td>-</td>\n",
       "      <td>SAMPLE</td>\n",
       "      <td>PBP_12BLO_PPE</td>\n",
       "      <td>-</td>\n",
       "      <td>103981</td>\n",
       "      <td>103981P</td>\n",
       "      <td>0</td>\n",
       "      <td>OV_YBPM300_MP_PPOXLE</td>\n",
       "    </tr>\n",
       "    <tr>\n",
       "      <th>4</th>\n",
       "      <td>89C_PX_OX7DQ_D73GPQ</td>\n",
       "      <td>C8OC07</td>\n",
       "      <td>CMP</td>\n",
       "      <td>CMPOXD</td>\n",
       "      <td>-</td>\n",
       "      <td>C8OC07-DR</td>\n",
       "      <td>DR</td>\n",
       "      <td>PP</td>\n",
       "      <td>16</td>\n",
       "      <td>[\"v_step_out_detect_time_avg_t\",\"v_step_out_de...</td>\n",
       "      <td>[\"2024-01-30 00:00:00\"]</td>\n",
       "      <td>[,,,]</td>\n",
       "      <td>[1.239393939393939,0,5,5,2.281219565049078,172...</td>\n",
       "      <td>[,,,]</td>\n",
       "      <td>EM055240</td>\n",
       "      <td>LBEM</td>\n",
       "      <td>L9XBXS8V0F-BXQ</td>\n",
       "      <td>EMP1V</td>\n",
       "      <td>-</td>\n",
       "      <td>BMOB80</td>\n",
       "      <td>BMOB80.1</td>\n",
       "      <td>SI</td>\n",
       "      <td>EMQ_LL_OXPSE_PPOXLE</td>\n",
       "    </tr>\n",
       "  </tbody>\n",
       "</table>\n",
       "</div>"
      ],
      "text/plain": [
       "         eqp_model_rev eqp_id_rev   area eqp_type ees_type unit_name_rev  \\\n",
       "0              HCD9300     A79C01  METRO   METRMS   METRMS        A79C01   \n",
       "1              HCD9300     A79C01  METRO   METRMS   METRMS        A79C01   \n",
       "2              HCD9300     A79C01  METRO   METRMS   METRMS        A79C01   \n",
       "3              HCD9300     A79C01  METRO   METRMS   METRMS        A79C01   \n",
       "4  89C_PX_OX7DQ_D73GPQ     C8OC07    CMP   CMPOXD        -     C8OC07-DR   \n",
       "\n",
       "  disp_name lottype  wafer_id  \\\n",
       "0         0       -         0   \n",
       "1         0       -         0   \n",
       "2         0       -         0   \n",
       "3         0       -         0   \n",
       "4        DR      PP        16   \n",
       "\n",
       "                                      param_name_rev  \\\n",
       "0  [\"d_awrpcelloutvoltage_e\",\"d_bandwidth_e\",\"d_c...   \n",
       "1                             [\"v_rrc_rinse_flow_e\"]   \n",
       "2  [\"v_smas_si2h7_mfc_si2h7_avg_avg_t\",\"v_smas_97...   \n",
       "3  [\"plate_temp_max_min_t\",\"v_process_time_avg_t\"...   \n",
       "4  [\"v_step_out_detect_time_avg_t\",\"v_step_out_de...   \n",
       "\n",
       "                                            act_time  \\\n",
       "0  [\"2024-01-30 00:03:59\",\"2024-01-30 00:03:59\",\"...   \n",
       "1      [\"2024-01-30 00:07:45\",\"2024-01-30 00:07:45\"]   \n",
       "2  [\"2024-01-30 00:17:59\",\"2024-01-30 00:17:59\",\"...   \n",
       "3  [\"2024-01-30 00:26:31\",\"2024-01-30 00:26:31\",\"...   \n",
       "4                            [\"2024-01-30 00:00:00\"]   \n",
       "\n",
       "                                      lower_spec_rev  \\\n",
       "0  [11.57002159338028,,,,0,13.20025437969012,,,,0...   \n",
       "1                                                 []   \n",
       "2                             [182.0792824601367,,,]   \n",
       "3                                          [,,0,,,0]   \n",
       "4                                              [,,,]   \n",
       "\n",
       "                                     param_value_rev  \\\n",
       "0                                      [0,0,0,0,0,0]   \n",
       "1  [-2.282096333333333,-3.279004,-1.2817383,0.673...   \n",
       "2  [1.27,0.2899999999999977,0.2899999999999977,0,...   \n",
       "3  [15.244,15.244,15.244,0,16.222,16.222,16.222,0...   \n",
       "4  [1.239393939393939,0,5,5,2.281219565049078,172...   \n",
       "\n",
       "                                      upper_spec_rev step_seq_rev  \\\n",
       "0  [24.40612206853535,,,,8.71363057312702,24.7986...    SVMMYSQEP   \n",
       "1                                                 []    SVMMYSQEP   \n",
       "2                             [184.0792824601367,,,]    SVMMYSQEP   \n",
       "3                                      [,,100,,,100]    SVMMYSQEP   \n",
       "4                                              [,,,]     EM055240   \n",
       "\n",
       "  processid_rev      partid_rev       ppid_rev recipeid_rev root_lot_id_rev  \\\n",
       "0             -          SAMPLE  PBP_12BLO_PPE            -          131915   \n",
       "1             -          SAMPLE  PBP_12BLO_PPE            -          119670   \n",
       "2             -          SAMPLE  PBP_12BLO_PPE            -          131915   \n",
       "3             -          SAMPLE  PBP_12BLO_PPE            -          103981   \n",
       "4          LBEM  L9XBXS8V0F-BXQ          EMP1V            -          BMOB80   \n",
       "\n",
       "  lotid_rev fdc_bin_rev         fdc_model_rev  \n",
       "0  131915PP           0  OV_YBPM300_MP_PPOXLE  \n",
       "1   119670P           0  OV_YBPM300_MP_PPOXLE  \n",
       "2  131915PP           0  OV_YBPM300_MP_PPOXLE  \n",
       "3   103981P           0  OV_YBPM300_MP_PPOXLE  \n",
       "4  BMOB80.1          SI   EMQ_LL_OXPSE_PPOXLE  "
      ]
     },
     "execution_count": 43,
     "metadata": {},
     "output_type": "execute_result"
    }
   ],
   "source": [
    "# 데이터형식 확인\n"
   ]
  },
  {
   "cell_type": "markdown",
   "id": "84499f43-6282-4518-985b-3b754b57ae17",
   "metadata": {},
   "source": [
    "## 데이터타입 최적화를 위한 스키마 확인 및 설정\n",
    "### 카테고리 데이터 컬럼명 추출"
   ]
  },
  {
   "cell_type": "code",
   "execution_count": 74,
   "id": "5300be7e-e3f8-4b14-bce6-574635844d59",
   "metadata": {},
   "outputs": [
    {
     "name": "stdout",
     "output_type": "stream",
     "text": [
      "area 10 object\n",
      "['METRO' 'CMP' 'DIFF' 'IMP' 'ETCH' 'METAL' 'PHOTO' 'CVD' 'AMHS' 'CLN']\n",
      "ees_type 10 object\n",
      "['METRMS' '-' 'Sorter_KT' 'METRMC' 'METRCD' 'METRTK' 'METRDI' 'METROD'\n",
      " 'POVLAY' 'METRPC']\n",
      "lottype 3 object\n",
      "['-' 'PP' 'EE']\n",
      "processid_rev 12 object\n",
      "['-' 'LBEM' 'LEOE' 'LBEP' 'LBEL' 'LEOS' 'LEOV' 'LEOB' 'LEVE' 'LEQL' 'LEQF'\n",
      " 'IM0ES0']\n",
      "partid_rev 13 object\n",
      "['SAMPLE' 'L9XBXS8V0F-BXQ' '-' 'L4E4X085YE-EEF' 'L9XBXS8V0E-BXQ'\n",
      " 'L9XSXS8V0S-BXQ' 'L4B4X0846E-EEF' 'L4V2E164EF-ELX' 'L4F2E164LF-EEB'\n",
      " 'L4E8X085YB-EEF' 'L9X00B8M0S-EXQ' 'L4B4X1646S-EEF' 'L4B2X1646F-EEF']\n"
     ]
    }
   ],
   "source": [
    "# 전체데이터를 메모리에 로딩이 가능한 경우 변수명에 따라 변수의 데이터타입 확인 (카테고리 여부 확인)\n",
    "# 고윳값 갯수가 20개 미만일 경우 카테고리컬화\n",
    "# 카테고리 컬럼을 선별 후 딕셔너리에 {컬럼명:'category'}형식으로 저장 \n"
   ]
  },
  {
   "cell_type": "code",
   "execution_count": 80,
   "id": "30a108b4-9b1f-4dee-b180-3879945dfdbb",
   "metadata": {},
   "outputs": [
    {
     "name": "stderr",
     "output_type": "stream",
     "text": [
      " 39%|██████████████████▊                             | 9/23 [00:19<00:30,  2.18s/it]"
     ]
    },
    {
     "name": "stdout",
     "output_type": "stream",
     "text": [
      "wafer_id [ 0 16 22 14  5 21 24 23 37 15 20 13 49 10 41 12  8  7  1  3 52  6  2  9\n",
      "  4 33 19 51 18 17 11 54 28 39 59 40 31 35 58 50 27 30 38 53 43 46 34 29\n",
      " 55 42 48 45 56 25 47 44 36 26 32 57 99] int64 796516\n"
     ]
    },
    {
     "name": "stderr",
     "output_type": "stream",
     "text": [
      "100%|███████████████████████████████████████████████| 23/23 [00:55<00:00,  2.39s/it]\n"
     ]
    }
   ],
   "source": [
    "# 전체 데이터 로딩이 불가능한 경우 컬럼데이터 하나씩만 호출하여 고윳값 확인 (데이터타입 지정을 위한 고윳값 확인)\n",
    "# csv, xlsx만 가능 parquet 불가\n",
    "# usecols=[col_nm] 으로 시리즈형태의 데이터로 로드\n",
    "# wafer_id의 경우 정수형태 데이터타입이 int --> 데이터의 범위가 255 미만\n"
   ]
  },
  {
   "cell_type": "code",
   "execution_count": 81,
   "id": "015b9f71-16b3-4cea-87a6-7fe525bffd2a",
   "metadata": {},
   "outputs": [],
   "source": [
    "# uint8변환 데이터 딕셔너리에 추가\n"
   ]
  },
  {
   "cell_type": "code",
   "execution_count": 82,
   "id": "94518b21-6dba-48e8-ad9e-c874245ec76e",
   "metadata": {},
   "outputs": [
    {
     "data": {
      "text/plain": [
       "{'area': 'category',\n",
       " 'ees_type': 'category',\n",
       " 'lottype': 'category',\n",
       " 'processid_rev': 'category',\n",
       " 'partid_rev': 'category',\n",
       " 'wafer_id': numpy.uint8}"
      ]
     },
     "execution_count": 82,
     "metadata": {},
     "output_type": "execute_result"
    }
   ],
   "source": [
    "# 데이터 확인\n"
   ]
  },
  {
   "cell_type": "code",
   "execution_count": 91,
   "id": "9ec1988d-c08a-4bfa-bad8-9aabbe4ba371",
   "metadata": {},
   "outputs": [
    {
     "name": "stdout",
     "output_type": "stream",
     "text": [
      "원본데이터 컬럼별 메모리 사용량\n",
      "Index                    132\n",
      "eqp_model_rev        6458454\n",
      "eqp_id_rev           5474757\n",
      "area                 5257677\n",
      "eqp_type             5475527\n",
      "ees_type             4978887\n",
      "unit_name_rev        5925915\n",
      "disp_name            5254604\n",
      "lottype              5056585\n",
      "wafer_id              796384\n",
      "param_name_rev     495447937\n",
      "act_time           419663938\n",
      "lower_spec_rev      50466405\n",
      "param_value_rev    179800454\n",
      "upper_spec_rev      54826143\n",
      "step_seq_rev         5554082\n",
      "processid_rev        5214957\n",
      "partid_rev           6016715\n",
      "ppid_rev             5958946\n",
      "recipeid_rev         5600855\n",
      "root_lot_id_rev      5473151\n",
      "lotid_rev            5715785\n",
      "fdc_bin_rev          5224604\n",
      "fdc_model_rev        7152794\n",
      "dtype: int64\n",
      "\n",
      "변환 후 컬럼별 메모리 사용량\n",
      "\n",
      "Index                    132\n",
      "eqp_model_rev        6458454\n",
      "eqp_id_rev           5474757\n",
      "area                  100377\n",
      "eqp_type             5475527\n",
      "ees_type              100396\n",
      "unit_name_rev        5925915\n",
      "disp_name            5254604\n",
      "lottype                99808\n",
      "wafer_id               99548\n",
      "param_name_rev     495447937\n",
      "act_time           419663938\n",
      "lower_spec_rev      50466405\n",
      "param_value_rev    179800454\n",
      "upper_spec_rev      54826143\n",
      "step_seq_rev         5554082\n",
      "processid_rev         100483\n",
      "partid_rev            100902\n",
      "ppid_rev             5958946\n",
      "recipeid_rev         5600855\n",
      "root_lot_id_rev      5473151\n",
      "lotid_rev            5715785\n",
      "fdc_bin_rev          5224604\n",
      "fdc_model_rev        7152794\n",
      "dtype: int64\n"
     ]
    }
   ],
   "source": [
    "# 원본데이터에 데이터 타입 적용 후 메모리 사용량 확인 memory_usage\n"
   ]
  },
  {
   "cell_type": "code",
   "execution_count": 94,
   "id": "b8ccfed3-4721-4efe-9add-92cdd6b51636",
   "metadata": {},
   "outputs": [
    {
     "name": "stdout",
     "output_type": "stream",
     "text": [
      "<class 'pandas.core.frame.DataFrame'>\n",
      "RangeIndex: 99548 entries, 0 to 99547\n",
      "Data columns (total 23 columns):\n",
      " #   Column           Non-Null Count  Dtype                                                       \n",
      "---  ------           --------------  -----                                                       \n",
      " 0   eqp_model_rev    99548 non-null  string[pyarrow]                                             \n",
      " 1   eqp_id_rev       99548 non-null  string[pyarrow]                                             \n",
      " 2   area             99548 non-null  dictionary<values=string, indices=int32, ordered=0>[pyarrow]\n",
      " 3   eqp_type         99548 non-null  string[pyarrow]                                             \n",
      " 4   ees_type         99548 non-null  dictionary<values=string, indices=int32, ordered=0>[pyarrow]\n",
      " 5   unit_name_rev    99548 non-null  string[pyarrow]                                             \n",
      " 6   disp_name        99548 non-null  string[pyarrow]                                             \n",
      " 7   lottype          99548 non-null  dictionary<values=string, indices=int32, ordered=0>[pyarrow]\n",
      " 8   wafer_id         99548 non-null  uint8[pyarrow]                                              \n",
      " 9   param_name_rev   99548 non-null  string[pyarrow]                                             \n",
      " 10  act_time         99548 non-null  string[pyarrow]                                             \n",
      " 11  lower_spec_rev   99548 non-null  string[pyarrow]                                             \n",
      " 12  param_value_rev  99548 non-null  string[pyarrow]                                             \n",
      " 13  upper_spec_rev   99548 non-null  string[pyarrow]                                             \n",
      " 14  step_seq_rev     99548 non-null  string[pyarrow]                                             \n",
      " 15  processid_rev    99548 non-null  dictionary<values=string, indices=int32, ordered=0>[pyarrow]\n",
      " 16  partid_rev       99548 non-null  dictionary<values=string, indices=int32, ordered=0>[pyarrow]\n",
      " 17  ppid_rev         99548 non-null  string[pyarrow]                                             \n",
      " 18  recipeid_rev     99548 non-null  string[pyarrow]                                             \n",
      " 19  root_lot_id_rev  99548 non-null  string[pyarrow]                                             \n",
      " 20  lotid_rev        99548 non-null  string[pyarrow]                                             \n",
      " 21  fdc_bin_rev      99548 non-null  string[pyarrow]                                             \n",
      " 22  fdc_model_rev    99548 non-null  string[pyarrow]                                             \n",
      "dtypes: dictionary<values=string, indices=int32, ordered=0>[pyarrow](5), string[pyarrow](17), uint8[pyarrow](1)\n",
      "memory usage: 1.1 GB\n"
     ]
    }
   ],
   "source": [
    "# parquet 저장 시 데이터타입 설정 engine='pyarrow'\n",
    "# parquet 로딩 시 dtype_backend='pyarrow'\n"
   ]
  },
  {
   "cell_type": "markdown",
   "id": "6c26ed3b-351f-4027-8d89-3ee01191d3b4",
   "metadata": {},
   "source": [
    "## 파일 로딩 작업 모듈화 클래스 작성 실습\n",
    "위 데이터타입 최적화 과정을 함수 형태로 제작하고 클래스화 시켜보도록 하겠습니다."
   ]
  },
  {
   "cell_type": "code",
   "execution_count": 12,
   "id": "7966806f-f7ae-494a-bc04-d4179842e0d2",
   "metadata": {},
   "outputs": [],
   "source": [
    "# 이전 작업 클래스 가져오기\n",
    "# 메소드 실행 시 \n",
    "# 고윳값 갯수가 20개 이하인 컬럼 선별 후 카테고리 데이터 타입으로 변환\n",
    "# 정수형 데이터 선별, 데이터 범위 255까지 확인 후 uint8 타입으로 변환\n",
    "# 데이터프레임 반환\n"
   ]
  },
  {
   "cell_type": "code",
   "execution_count": 13,
   "id": "44f4568a-e4b8-4f02-97ef-6184bb410559",
   "metadata": {},
   "outputs": [
    {
     "name": "stdout",
     "output_type": "stream",
     "text": [
      "<class 'pandas.core.frame.DataFrame'>\n",
      "RangeIndex: 99548 entries, 0 to 99547\n",
      "Data columns (total 23 columns):\n",
      " #   Column           Non-Null Count  Dtype   \n",
      "---  ------           --------------  -----   \n",
      " 0   eqp_model_rev    99548 non-null  object  \n",
      " 1   eqp_id_rev       99548 non-null  object  \n",
      " 2   area             99548 non-null  category\n",
      " 3   eqp_type         99548 non-null  object  \n",
      " 4   ees_type         99548 non-null  category\n",
      " 5   unit_name_rev    99548 non-null  object  \n",
      " 6   disp_name        99548 non-null  object  \n",
      " 7   lottype          99548 non-null  category\n",
      " 8   wafer_id         99548 non-null  uint8   \n",
      " 9   param_name_rev   99548 non-null  object  \n",
      " 10  act_time         99548 non-null  object  \n",
      " 11  lower_spec_rev   99548 non-null  object  \n",
      " 12  param_value_rev  99548 non-null  object  \n",
      " 13  upper_spec_rev   99548 non-null  object  \n",
      " 14  step_seq_rev     99548 non-null  object  \n",
      " 15  processid_rev    99548 non-null  category\n",
      " 16  partid_rev       99548 non-null  category\n",
      " 17  ppid_rev         99548 non-null  object  \n",
      " 18  recipeid_rev     99548 non-null  object  \n",
      " 19  root_lot_id_rev  99548 non-null  object  \n",
      " 20  lotid_rev        99548 non-null  object  \n",
      " 21  fdc_bin_rev      99548 non-null  object  \n",
      " 22  fdc_model_rev    99548 non-null  object  \n",
      "dtypes: category(5), object(17), uint8(1)\n",
      "memory usage: 13.5+ MB\n"
     ]
    }
   ],
   "source": [
    "# 모듈 파일 실행 후 info()로 데이터타입 확인\n"
   ]
  }
 ],
 "metadata": {
  "kernelspec": {
   "display_name": "Python 3 (ipykernel)",
   "language": "python",
   "name": "python3"
  },
  "language_info": {
   "codemirror_mode": {
    "name": "ipython",
    "version": 3
   },
   "file_extension": ".py",
   "mimetype": "text/x-python",
   "name": "python",
   "nbconvert_exporter": "python",
   "pygments_lexer": "ipython3",
   "version": "3.12.3"
  }
 },
 "nbformat": 4,
 "nbformat_minor": 5
}
