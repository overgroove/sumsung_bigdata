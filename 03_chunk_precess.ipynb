{
 "cells": [
  {
   "cell_type": "markdown",
   "id": "9003465f-d9a8-49b3-8a34-01d563c8fad4",
   "metadata": {},
   "source": [
    "# 청크기반작업(Chunk Oriented Processing)\n",
    "데이터를 청크단위로 묶어 개별, 분산 처리하는 방식으로 대용량 트랜잭션 데이터를 처리하기 위한 방법론입니다.  \n",
    "일반적으로 대용량 데이터를 한번에 처리하는 것이 아닌 청크 단위로 데이터를 로딩, 처리 하면서 작업 할 데이터가 없을 때까지 반복작업을 수행합니다.  \n",
    "판다스 자체 chunk 기반 작업을 통해 간단하게 배치기반 대용량 처리 방식을 구현해보겠습니다."
   ]
  },
  {
   "cell_type": "markdown",
   "id": "ebdc4366-33e0-4ddc-9adb-8fd56428b986",
   "metadata": {},
   "source": [
    "<img src=\"./image/chunk_process.png\">\n",
    "출처 : https://blog.clairvoyantsoft.com/efficient-processing-of-parquet-files-in-chunks-using-pyarrow-b315cc0c62f9 "
   ]
  },
  {
   "cell_type": "code",
   "execution_count": 2,
   "id": "ac03d8e2-552b-4bed-8c3a-72fd4ec6dcaf",
   "metadata": {},
   "outputs": [],
   "source": [
    "# 필요모듈 import\n",
    "import numpy as np\n",
    "import pandas as pd"
   ]
  },
  {
   "cell_type": "code",
   "execution_count": 12,
   "id": "1fe838f0-67c9-42fd-8ca3-38e6781265e2",
   "metadata": {},
   "outputs": [],
   "source": [
    "# read_csv메소드의 chunk 단위 데이터 로딩\n"
   ]
  },
  {
   "cell_type": "code",
   "execution_count": null,
   "id": "db460a52-ed22-4195-9f0c-2d7613c6cadf",
   "metadata": {},
   "outputs": [],
   "source": [
    "# 청크단위 데이터 확인\n"
   ]
  },
  {
   "cell_type": "code",
   "execution_count": 67,
   "id": "6533c169-b794-43aa-9069-f66827de052f",
   "metadata": {},
   "outputs": [
    {
     "name": "stdout",
     "output_type": "stream",
     "text": [
      "No.0 chunk in processing...10000\n",
      "No.0 chunk in finish 0 deleted!\n",
      "No.1 chunk in processing...10000\n",
      "No.1 chunk in finish 0 deleted!\n",
      "No.2 chunk in processing...10000\n",
      "No.2 chunk in finish 0 deleted!\n",
      "No.3 chunk in processing...10000\n",
      "No.3 chunk in finish 0 deleted!\n",
      "No.4 chunk in processing...10000\n",
      "No.4 chunk in finish 0 deleted!\n",
      "No.5 chunk in processing...10000\n",
      "No.5 chunk in finish 0 deleted!\n",
      "No.6 chunk in processing...10000\n",
      "No.6 chunk in finish 0 deleted!\n",
      "No.7 chunk in processing...10000\n",
      "No.7 chunk in finish 0 deleted!\n",
      "No.8 chunk in processing...10000\n",
      "No.8 chunk in finish 0 deleted!\n",
      "No.9 chunk in processing...9548\n",
      "No.9 chunk in finish 0 deleted!\n",
      "Process complete!\n"
     ]
    }
   ],
   "source": [
    "# iterator 반복자로 작업, iterator추가\n",
    "# iterable하기에 반복문으로 iter객체를 반복하며 chunkdata를 가져오고 작업 후 작업 된 데이터를 개별 저장\n",
    "# 결측데이터 처리\n",
    "# \"ess_type\" 데이터의 경우 \"-\" 표기가 되어 있고 info() 상으로는 결측치가 아니지만 chunk처리 시 결측 처리 됨.\n",
    "# 결측치 \"0\" 으로 처리 후 mode=\"w\", \"a\" 등으로 데이터프레임 누적 저장\n"
   ]
  },
  {
   "cell_type": "code",
   "execution_count": 116,
   "id": "c9e273ba-f7d1-4bc6-a6a2-f1b656ac96aa",
   "metadata": {},
   "outputs": [],
   "source": [
    "# chunk process 클래스 구현\n",
    "# 작업을 위한 메소드를 따로 구현\n",
    "# 전체 실행 과정을 execute메소드명으로 정리\n"
   ]
  },
  {
   "cell_type": "code",
   "execution_count": 118,
   "id": "60a38d2f-ca90-4563-b177-dfac477dfafd",
   "metadata": {},
   "outputs": [
    {
     "name": "stdout",
     "output_type": "stream",
     "text": [
      "1 chunk processing\n",
      "2 chunk processing\n",
      "3 chunk processing\n",
      "4 chunk processing\n",
      "5 chunk processing\n",
      "6 chunk processing\n",
      "7 chunk processing\n",
      "8 chunk processing\n",
      "9 chunk processing\n",
      "10 chunk processing\n",
      "All process is Done\n",
      "CPU times: user 17.3 s, sys: 975 ms, total: 18.2 s\n",
      "Wall time: 18.4 s\n"
     ]
    }
   ],
   "source": [
    "%%time\n",
    "# 모듈화 파일 실행\n"
   ]
  }
 ],
 "metadata": {
  "kernelspec": {
   "display_name": "Python 3 (ipykernel)",
   "language": "python",
   "name": "python3"
  },
  "language_info": {
   "codemirror_mode": {
    "name": "ipython",
    "version": 3
   },
   "file_extension": ".py",
   "mimetype": "text/x-python",
   "name": "python",
   "nbconvert_exporter": "python",
   "pygments_lexer": "ipython3",
   "version": "3.12.3"
  }
 },
 "nbformat": 4,
 "nbformat_minor": 5
}
