{
 "cells": [
  {
   "cell_type": "markdown",
   "id": "d96f3518-74ea-4698-8bd6-5dcffdf99f90",
   "metadata": {},
   "source": [
    "# Multiprocessing\n",
    "chunk 단위 데이터 처리 방식은 로컬메모리에 모두 담을 수 없는 대용량 데이터처리를 위해 수행하였습니다.  \n",
    "반복문 혹은 순차적으로 생성되는 chunk 데이터를 처리하지만 순차적으로 생성되는 chunk 데이터 처리가 완료되어야 다음 chunk데이터 처리가 가능한 sequencial한 작업입니다.  \n",
    "각 chunk 처리를 Parallelized하게 구성도 가능하지만 데이터의 순차누적 및 가용 연산량의 최적화를 위해 각 chunk 데이터에서 수행하는 작업을 병렬구성하여 멀티프로세스로 처리하고 병렬작업결과를 결합하여 chunk단위 작업처리를 하도록 작업구조를 만들어보겠습니다.  \n",
    "chunk 데이터를 컴퓨터의 논리연산이 가능한 코어 갯수만큼 분할하고 분할 된 sub chunk 데이터 작업을 병렬화하여 연산 효율을 최적화 시킬 수 있습니다."
   ]
  },
  {
   "cell_type": "markdown",
   "id": "1c8a46bd-6f93-491d-adcb-4bd1d906b49c",
   "metadata": {},
   "source": [
    "<img src=\"./image/multiprocessing.png\">\n",
    "출처 : 강사제작"
   ]
  },
  {
   "cell_type": "markdown",
   "id": "f11ce758-d5f2-4d19-8307-ed9948599fa4",
   "metadata": {},
   "source": [
    "파이썬 내장 모듈인 multiprocessing의 경우 주피터노트북 혹은 주피터랩에서는 실행이 어렵습니다. (파이썬의 가상환경 특성 때문)  \n",
    "os, IO와 관계된 내용이기에 이하 실습은 클래스 실행 파일로 제작하여 VScode 혹은 터미널 실행으로 진행합니다.  "
   ]
  },
  {
   "cell_type": "markdown",
   "id": "4895d9f9-653c-4bbe-a2bb-09e581d8bd23",
   "metadata": {},
   "source": [
    "multiprocessing은 작업에 대한 병렬처리를 수행하는 여러가지 방법론을 제공하지만 데이터처리에 국한 된 내용이 아닙니다.  \n",
    "그렇기에 많은 방법론 중 현재 작업에 알맞는 사용방법이 다르고 사용방법이 직관적이지 못합니다.(docstring 불친절)  \n",
    "pool 프로세스에 사용가능한 기능설명 참고 링크 : https://tempdev.tistory.com/27  "
   ]
  },
  {
   "cell_type": "markdown",
   "id": "a1b950a7-9fae-47d8-a1d7-9168d3d6a406",
   "metadata": {},
   "source": [
    "|메소드|반환방식|데이터분할|메모리사용량|작업속도|주요특징|\n",
    "|---|---|---|---|---|---|\n",
    "|apply()|값|단일 값|낮음|느림 (동기 실행)|\t단일 함수 호출에 적합, 블로킹됨|\n",
    "|apply_async()|\t비동기 객체 (AsyncResult)|\t단일 값|\t낮음|\t빠름 (비동기 실행)|\t비동기 실행, .get() 필요\n",
    "|map()|\t리스트|\t균등 분할|\t높음|\t빠름|\t리스트 기반 병렬 처리, 결과 순서 유지\n",
    "|imap()|\t이터레이터|\t균등 분할|\t낮음|\t느림|\t메모리 절약, 결과 순서 유지\n",
    "|imap_unordered()|\t이터레이터|\t비순차적 분할|\t낮음|\t빠름|\t메모리 절약, 결과 순서 무작위\n",
    "|starmap()|\t리스트|\t튜플 데이터|\t높음|\t빠름|\t다중 인수 함수 사용 가능\n",
    "|starmap_async()|\t비동기 객체|\t튜플 데이터|\t낮음|\t빠름|\t비동기 실행, .get() 필요"
   ]
  },
  {
   "cell_type": "markdown",
   "id": "717dbbd9-0dbd-417d-b9a4-50f8b6d5ce30",
   "metadata": {},
   "source": [
    "아래 실습에서는 테이블 형태의 데이터를 다루기에 가장 합리적인 Pool.map()을 활용하여 병렬프로세스를 구성 해보겠습니다."
   ]
  },
  {
   "cell_type": "code",
   "execution_count": 1,
   "id": "b3b652e9-6394-4983-a24d-f2f81b5d3977",
   "metadata": {},
   "outputs": [],
   "source": [
    "# 필요모듈 import\n",
    "import os\n",
    "import warnings\n",
    "warnings.filterwarnings('ignore')\n",
    "import numpy as np\n",
    "import pandas as pd\n",
    "import multiprocessing as mp"
   ]
  },
  {
   "cell_type": "code",
   "execution_count": 15,
   "id": "166f12e5-fc41-425d-a321-1e8446048d8d",
   "metadata": {},
   "outputs": [
    {
     "name": "stdout",
     "output_type": "stream",
     "text": [
      "10\n",
      "10\n"
     ]
    }
   ],
   "source": [
    "# 로컬 컴퓨터의 논리연산이 가능한 cpu 갯수 확인\n"
   ]
  },
  {
   "cell_type": "code",
   "execution_count": 28,
   "id": "16d22de0-dab6-46ae-9200-ab8d000bd1fe",
   "metadata": {},
   "outputs": [],
   "source": [
    "# 청크 사이즈만큼 데이터 로딩\n"
   ]
  },
  {
   "cell_type": "code",
   "execution_count": 41,
   "id": "3717cc82-dd13-4b5f-8801-3e1f5b655e85",
   "metadata": {},
   "outputs": [],
   "source": [
    "# 샘플데이터 생성\n"
   ]
  },
  {
   "cell_type": "code",
   "execution_count": null,
   "id": "3b64bfd4-7e59-462a-89b6-0b2079b14bd1",
   "metadata": {},
   "outputs": [],
   "source": [
    "# 병렬 처리 함수 생성\n",
    "# chunk 데이터 파라메터로 전달\n",
    "# 프로세스 수 만큼 chunk 데이터 split\n",
    "# pool 멀티프로세스 작업 오픈\n",
    "# 병렬프로세스에 func, chunk 전달하여 결과값 전달받고 변수에 저장\n",
    "# split data chunk 데이터로 병합\n",
    "# close()\n",
    "# join()\n"
   ]
  },
  {
   "cell_type": "code",
   "execution_count": 26,
   "id": "b93e5bd9-711c-4c86-9e15-2cdf92051f8a",
   "metadata": {},
   "outputs": [],
   "source": [
    "# 청크데이터를 전달받아 중복 데이터 삭제 후 결측치를 처리하는 함수\n",
    "# 작업 후 청크데이터 리턴\n"
   ]
  },
  {
   "cell_type": "code",
   "execution_count": null,
   "id": "dda91481-c564-4743-80bd-2bcc98bf8bb6",
   "metadata": {},
   "outputs": [],
   "source": [
    "# with 구문으로 조금 더 간단하게 구현하는 방법\n"
   ]
  },
  {
   "cell_type": "code",
   "execution_count": null,
   "id": "b633b182-6d8c-4838-b466-7f878e2741fd",
   "metadata": {},
   "outputs": [],
   "source": [
    "# 기존작업을 멀티 프로세싱을 사용한 실행코드\n"
   ]
  },
  {
   "cell_type": "code",
   "execution_count": 11,
   "id": "448d9531-69da-470e-8ef5-bce0968ef2da",
   "metadata": {
    "scrolled": true
   },
   "outputs": [],
   "source": [
    "# 멀티프로세싱을 활용한 chunk 단위 데이터 병렬 작업 클래스 구성\n",
    "# 실행파일 형태로 제작\n",
    "# execute 메소드 실행 시 일련의 작업 실행\n",
    "# 단 멀티프로세스로 구성 시 작업에 사용할 함수는 전역함수 혹은 정적메소드로 구성 (멀티프로세싱의 사용 특징으로 병렬화 할 작업은 클래스에 포함 X)\n",
    "# 병렬 작업이 필요한 작업 함수 생성\n",
    "# 병렬 처리 함수 생성\n",
    "# chunk 데이터 파라메터로 전달\n",
    "# 프로세스 수 만큼 chunk 데이터 split\n",
    "# pool 멀티프로세스 작업 오픈\n",
    "# 병렬프로세스에 func, chunk 전달하여 결과값 전달받고 변수에 저장\n",
    "# split data chunk 데이터로 병합\n"
   ]
  }
 ],
 "metadata": {
  "kernelspec": {
   "display_name": "Python 3 (ipykernel)",
   "language": "python",
   "name": "python3"
  },
  "language_info": {
   "codemirror_mode": {
    "name": "ipython",
    "version": 3
   },
   "file_extension": ".py",
   "mimetype": "text/x-python",
   "name": "python",
   "nbconvert_exporter": "python",
   "pygments_lexer": "ipython3",
   "version": "3.12.3"
  }
 },
 "nbformat": 4,
 "nbformat_minor": 5
}
